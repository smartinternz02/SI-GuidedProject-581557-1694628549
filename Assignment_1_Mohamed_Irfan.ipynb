{
  "cells": [
    {
      "cell_type": "markdown",
      "metadata": {
        "id": "view-in-github",
        "colab_type": "text"
      },
      "source": [
        "<a href=\"https://colab.research.google.com/github/smartinternz02/SI-GuidedProject-581557-1694628549/blob/main/Mohamed_Irfan_AI_ML_Assignment_1.ipynb\" target=\"_parent\"><img src=\"https://colab.research.google.com/assets/colab-badge.svg\" alt=\"Open In Colab\"/></a>"
      ]
    },
    {
      "cell_type": "markdown",
      "id": "9cb54fba",
      "metadata": {
        "id": "9cb54fba"
      },
      "source": [
        "# **21BBT0325 Mohamed Irfan Abdul Khader VIT - Vellore**"
      ]
    },
    {
      "cell_type": "markdown",
      "id": "14d5659c",
      "metadata": {
        "id": "14d5659c"
      },
      "source": [
        "## **AI ML Assignment 1**"
      ]
    },
    {
      "cell_type": "markdown",
      "id": "7dd6fbb1",
      "metadata": {
        "id": "7dd6fbb1"
      },
      "source": [
        "### Task 1"
      ]
    },
    {
      "cell_type": "code",
      "execution_count": null,
      "id": "4ec016ca",
      "metadata": {
        "id": "4ec016ca",
        "outputId": "75be9954-cb8c-4c03-905d-a424af48eaad"
      },
      "outputs": [
        {
          "data": {
            "text/html": [
              "<div>\n",
              "<style scoped>\n",
              "    .dataframe tbody tr th:only-of-type {\n",
              "        vertical-align: middle;\n",
              "    }\n",
              "\n",
              "    .dataframe tbody tr th {\n",
              "        vertical-align: top;\n",
              "    }\n",
              "\n",
              "    .dataframe thead th {\n",
              "        text-align: right;\n",
              "    }\n",
              "</style>\n",
              "<table border=\"1\" class=\"dataframe\">\n",
              "  <thead>\n",
              "    <tr style=\"text-align: right;\">\n",
              "      <th></th>\n",
              "      <th>0</th>\n",
              "      <th>1</th>\n",
              "      <th>2</th>\n",
              "      <th>3</th>\n",
              "    </tr>\n",
              "  </thead>\n",
              "  <tbody>\n",
              "    <tr>\n",
              "      <th>0</th>\n",
              "      <td>-0.219672</td>\n",
              "      <td>0.357113</td>\n",
              "      <td>1.477894</td>\n",
              "      <td>-0.518270</td>\n",
              "    </tr>\n",
              "    <tr>\n",
              "      <th>1</th>\n",
              "      <td>-0.808494</td>\n",
              "      <td>-0.501757</td>\n",
              "      <td>0.915402</td>\n",
              "      <td>0.328751</td>\n",
              "    </tr>\n",
              "    <tr>\n",
              "      <th>2</th>\n",
              "      <td>-0.529760</td>\n",
              "      <td>0.513267</td>\n",
              "      <td>0.097078</td>\n",
              "      <td>0.968645</td>\n",
              "    </tr>\n",
              "    <tr>\n",
              "      <th>3</th>\n",
              "      <td>-0.702053</td>\n",
              "      <td>-0.327662</td>\n",
              "      <td>-0.392108</td>\n",
              "      <td>-1.463515</td>\n",
              "    </tr>\n",
              "  </tbody>\n",
              "</table>\n",
              "</div>"
            ],
            "text/plain": [
              "          0         1         2         3\n",
              "0 -0.219672  0.357113  1.477894 -0.518270\n",
              "1 -0.808494 -0.501757  0.915402  0.328751\n",
              "2 -0.529760  0.513267  0.097078  0.968645\n",
              "3 -0.702053 -0.327662 -0.392108 -1.463515"
            ]
          },
          "execution_count": 72,
          "metadata": {},
          "output_type": "execute_result"
        }
      ],
      "source": [
        "import pandas as pd\n",
        "import numpy as np\n",
        "data = np.random.randn(4, 4)\n",
        "\n",
        "# creating dataframe\n",
        "df = pd.DataFrame(data)\n",
        "df"
      ]
    },
    {
      "cell_type": "markdown",
      "id": "4884085b",
      "metadata": {
        "id": "4884085b"
      },
      "source": [
        "### Task 2"
      ]
    },
    {
      "cell_type": "code",
      "execution_count": null,
      "id": "9623a4de",
      "metadata": {
        "id": "9623a4de",
        "outputId": "d2aad5e9-19ef-43cf-de59-84ab1330f30f"
      },
      "outputs": [
        {
          "data": {
            "text/html": [
              "<div>\n",
              "<style scoped>\n",
              "    .dataframe tbody tr th:only-of-type {\n",
              "        vertical-align: middle;\n",
              "    }\n",
              "\n",
              "    .dataframe tbody tr th {\n",
              "        vertical-align: top;\n",
              "    }\n",
              "\n",
              "    .dataframe thead th {\n",
              "        text-align: right;\n",
              "    }\n",
              "</style>\n",
              "<table border=\"1\" class=\"dataframe\">\n",
              "  <thead>\n",
              "    <tr style=\"text-align: right;\">\n",
              "      <th></th>\n",
              "      <th>Random value 1</th>\n",
              "      <th>Random value 2</th>\n",
              "      <th>Random value 3</th>\n",
              "      <th>Random value 4</th>\n",
              "    </tr>\n",
              "  </thead>\n",
              "  <tbody>\n",
              "    <tr>\n",
              "      <th>0</th>\n",
              "      <td>-0.219672</td>\n",
              "      <td>0.357113</td>\n",
              "      <td>1.477894</td>\n",
              "      <td>-0.518270</td>\n",
              "    </tr>\n",
              "    <tr>\n",
              "      <th>1</th>\n",
              "      <td>-0.808494</td>\n",
              "      <td>-0.501757</td>\n",
              "      <td>0.915402</td>\n",
              "      <td>0.328751</td>\n",
              "    </tr>\n",
              "    <tr>\n",
              "      <th>2</th>\n",
              "      <td>-0.529760</td>\n",
              "      <td>0.513267</td>\n",
              "      <td>0.097078</td>\n",
              "      <td>0.968645</td>\n",
              "    </tr>\n",
              "    <tr>\n",
              "      <th>3</th>\n",
              "      <td>-0.702053</td>\n",
              "      <td>-0.327662</td>\n",
              "      <td>-0.392108</td>\n",
              "      <td>-1.463515</td>\n",
              "    </tr>\n",
              "  </tbody>\n",
              "</table>\n",
              "</div>"
            ],
            "text/plain": [
              "   Random value 1  Random value 2  Random value 3  Random value 4\n",
              "0       -0.219672        0.357113        1.477894       -0.518270\n",
              "1       -0.808494       -0.501757        0.915402        0.328751\n",
              "2       -0.529760        0.513267        0.097078        0.968645\n",
              "3       -0.702053       -0.327662       -0.392108       -1.463515"
            ]
          },
          "execution_count": 73,
          "metadata": {},
          "output_type": "execute_result"
        }
      ],
      "source": [
        "# renaming\n",
        "df.columns = ['Random value 1', 'Random value 2', 'Random value 3', 'Random value 4']\n",
        "df"
      ]
    },
    {
      "cell_type": "markdown",
      "id": "e1bc876c",
      "metadata": {
        "id": "e1bc876c"
      },
      "source": [
        "### Task 3"
      ]
    },
    {
      "cell_type": "code",
      "execution_count": null,
      "id": "60bb36f3",
      "metadata": {
        "id": "60bb36f3",
        "outputId": "f2a0b6c2-dcf0-402d-f9b8-8023b055d02d"
      },
      "outputs": [
        {
          "data": {
            "text/html": [
              "<div>\n",
              "<style scoped>\n",
              "    .dataframe tbody tr th:only-of-type {\n",
              "        vertical-align: middle;\n",
              "    }\n",
              "\n",
              "    .dataframe tbody tr th {\n",
              "        vertical-align: top;\n",
              "    }\n",
              "\n",
              "    .dataframe thead th {\n",
              "        text-align: right;\n",
              "    }\n",
              "</style>\n",
              "<table border=\"1\" class=\"dataframe\">\n",
              "  <thead>\n",
              "    <tr style=\"text-align: right;\">\n",
              "      <th></th>\n",
              "      <th>Random value 1</th>\n",
              "      <th>Random value 2</th>\n",
              "      <th>Random value 3</th>\n",
              "      <th>Random value 4</th>\n",
              "    </tr>\n",
              "  </thead>\n",
              "  <tbody>\n",
              "    <tr>\n",
              "      <th>count</th>\n",
              "      <td>4.000000</td>\n",
              "      <td>4.000000</td>\n",
              "      <td>4.000000</td>\n",
              "      <td>4.000000</td>\n",
              "    </tr>\n",
              "    <tr>\n",
              "      <th>mean</th>\n",
              "      <td>-0.564995</td>\n",
              "      <td>0.010240</td>\n",
              "      <td>0.524566</td>\n",
              "      <td>-0.171097</td>\n",
              "    </tr>\n",
              "    <tr>\n",
              "      <th>std</th>\n",
              "      <td>0.257272</td>\n",
              "      <td>0.499892</td>\n",
              "      <td>0.833592</td>\n",
              "      <td>1.055104</td>\n",
              "    </tr>\n",
              "    <tr>\n",
              "      <th>min</th>\n",
              "      <td>-0.808494</td>\n",
              "      <td>-0.501757</td>\n",
              "      <td>-0.392108</td>\n",
              "      <td>-1.463515</td>\n",
              "    </tr>\n",
              "    <tr>\n",
              "      <th>25%</th>\n",
              "      <td>-0.728663</td>\n",
              "      <td>-0.371186</td>\n",
              "      <td>-0.025219</td>\n",
              "      <td>-0.754581</td>\n",
              "    </tr>\n",
              "    <tr>\n",
              "      <th>50%</th>\n",
              "      <td>-0.615907</td>\n",
              "      <td>0.014725</td>\n",
              "      <td>0.506240</td>\n",
              "      <td>-0.094760</td>\n",
              "    </tr>\n",
              "    <tr>\n",
              "      <th>75%</th>\n",
              "      <td>-0.452238</td>\n",
              "      <td>0.396151</td>\n",
              "      <td>1.056025</td>\n",
              "      <td>0.488725</td>\n",
              "    </tr>\n",
              "    <tr>\n",
              "      <th>max</th>\n",
              "      <td>-0.219672</td>\n",
              "      <td>0.513267</td>\n",
              "      <td>1.477894</td>\n",
              "      <td>0.968645</td>\n",
              "    </tr>\n",
              "  </tbody>\n",
              "</table>\n",
              "</div>"
            ],
            "text/plain": [
              "       Random value 1  Random value 2  Random value 3  Random value 4\n",
              "count        4.000000        4.000000        4.000000        4.000000\n",
              "mean        -0.564995        0.010240        0.524566       -0.171097\n",
              "std          0.257272        0.499892        0.833592        1.055104\n",
              "min         -0.808494       -0.501757       -0.392108       -1.463515\n",
              "25%         -0.728663       -0.371186       -0.025219       -0.754581\n",
              "50%         -0.615907        0.014725        0.506240       -0.094760\n",
              "75%         -0.452238        0.396151        1.056025        0.488725\n",
              "max         -0.219672        0.513267        1.477894        0.968645"
            ]
          },
          "execution_count": 74,
          "metadata": {},
          "output_type": "execute_result"
        }
      ],
      "source": [
        "df.describe()"
      ]
    },
    {
      "cell_type": "markdown",
      "id": "947a3e95",
      "metadata": {
        "id": "947a3e95"
      },
      "source": [
        "### Task 4"
      ]
    },
    {
      "cell_type": "code",
      "execution_count": null,
      "id": "38c18a01",
      "metadata": {
        "id": "38c18a01",
        "outputId": "64e97c50-1ab1-4825-d60c-6ef5af77f60f"
      },
      "outputs": [
        {
          "name": "stdout",
          "output_type": "stream",
          "text": [
            "<class 'pandas.core.frame.DataFrame'>\n",
            "RangeIndex: 4 entries, 0 to 3\n",
            "Data columns (total 4 columns):\n",
            " #   Column          Non-Null Count  Dtype  \n",
            "---  ------          --------------  -----  \n",
            " 0   Random value 1  4 non-null      float64\n",
            " 1   Random value 2  4 non-null      float64\n",
            " 2   Random value 3  4 non-null      float64\n",
            " 3   Random value 4  4 non-null      float64\n",
            "dtypes: float64(4)\n",
            "memory usage: 256.0 bytes\n"
          ]
        }
      ],
      "source": [
        "df.info()"
      ]
    },
    {
      "cell_type": "code",
      "execution_count": null,
      "id": "e2d4f7be",
      "metadata": {
        "id": "e2d4f7be",
        "outputId": "bfde0db5-6a2d-4d33-ddba-68608c8bd8f2"
      },
      "outputs": [
        {
          "data": {
            "text/plain": [
              "Random value 1    0\n",
              "Random value 2    0\n",
              "Random value 3    0\n",
              "Random value 4    0\n",
              "dtype: int64"
            ]
          },
          "execution_count": 75,
          "metadata": {},
          "output_type": "execute_result"
        }
      ],
      "source": [
        "# null values\n",
        "df.isnull().sum()"
      ]
    },
    {
      "cell_type": "code",
      "execution_count": null,
      "id": "1da2f5b5",
      "metadata": {
        "id": "1da2f5b5",
        "outputId": "c4e5c385-9823-4d75-afa1-64f57dce4811"
      },
      "outputs": [
        {
          "data": {
            "text/plain": [
              "Random value 1    float64\n",
              "Random value 2    float64\n",
              "Random value 3    float64\n",
              "Random value 4    float64\n",
              "dtype: object"
            ]
          },
          "execution_count": 76,
          "metadata": {},
          "output_type": "execute_result"
        }
      ],
      "source": [
        "# datatypes\n",
        "df.dtypes"
      ]
    },
    {
      "cell_type": "markdown",
      "id": "cdc3d2ee",
      "metadata": {
        "id": "cdc3d2ee"
      },
      "source": [
        "### Task 5"
      ]
    },
    {
      "cell_type": "code",
      "execution_count": null,
      "id": "1d2ae35f",
      "metadata": {
        "scrolled": true,
        "id": "1d2ae35f",
        "outputId": "8f9eb047-166a-48c5-b316-e74e2b68335a"
      },
      "outputs": [
        {
          "data": {
            "text/html": [
              "<div>\n",
              "<style scoped>\n",
              "    .dataframe tbody tr th:only-of-type {\n",
              "        vertical-align: middle;\n",
              "    }\n",
              "\n",
              "    .dataframe tbody tr th {\n",
              "        vertical-align: top;\n",
              "    }\n",
              "\n",
              "    .dataframe thead th {\n",
              "        text-align: right;\n",
              "    }\n",
              "</style>\n",
              "<table border=\"1\" class=\"dataframe\">\n",
              "  <thead>\n",
              "    <tr style=\"text-align: right;\">\n",
              "      <th></th>\n",
              "      <th>Random value 2</th>\n",
              "      <th>Random value 3</th>\n",
              "    </tr>\n",
              "  </thead>\n",
              "  <tbody>\n",
              "    <tr>\n",
              "      <th>0</th>\n",
              "      <td>0.357113</td>\n",
              "      <td>1.477894</td>\n",
              "    </tr>\n",
              "    <tr>\n",
              "      <th>1</th>\n",
              "      <td>-0.501757</td>\n",
              "      <td>0.915402</td>\n",
              "    </tr>\n",
              "    <tr>\n",
              "      <th>2</th>\n",
              "      <td>0.513267</td>\n",
              "      <td>0.097078</td>\n",
              "    </tr>\n",
              "    <tr>\n",
              "      <th>3</th>\n",
              "      <td>-0.327662</td>\n",
              "      <td>-0.392108</td>\n",
              "    </tr>\n",
              "  </tbody>\n",
              "</table>\n",
              "</div>"
            ],
            "text/plain": [
              "   Random value 2  Random value 3\n",
              "0        0.357113        1.477894\n",
              "1       -0.501757        0.915402\n",
              "2        0.513267        0.097078\n",
              "3       -0.327662       -0.392108"
            ]
          },
          "execution_count": 84,
          "metadata": {},
          "output_type": "execute_result"
        }
      ],
      "source": [
        "# location method\n",
        "df.loc[:, ['Random value 2', 'Random value 3']]"
      ]
    },
    {
      "cell_type": "code",
      "execution_count": null,
      "id": "fe4e6fa6",
      "metadata": {
        "id": "fe4e6fa6",
        "outputId": "ea4eeee8-5a31-49b2-d8b0-ecc20a986670"
      },
      "outputs": [
        {
          "data": {
            "text/html": [
              "<div>\n",
              "<style scoped>\n",
              "    .dataframe tbody tr th:only-of-type {\n",
              "        vertical-align: middle;\n",
              "    }\n",
              "\n",
              "    .dataframe tbody tr th {\n",
              "        vertical-align: top;\n",
              "    }\n",
              "\n",
              "    .dataframe thead th {\n",
              "        text-align: right;\n",
              "    }\n",
              "</style>\n",
              "<table border=\"1\" class=\"dataframe\">\n",
              "  <thead>\n",
              "    <tr style=\"text-align: right;\">\n",
              "      <th></th>\n",
              "      <th>Random value 2</th>\n",
              "      <th>Random value 3</th>\n",
              "    </tr>\n",
              "  </thead>\n",
              "  <tbody>\n",
              "    <tr>\n",
              "      <th>0</th>\n",
              "      <td>0.357113</td>\n",
              "      <td>1.477894</td>\n",
              "    </tr>\n",
              "    <tr>\n",
              "      <th>1</th>\n",
              "      <td>-0.501757</td>\n",
              "      <td>0.915402</td>\n",
              "    </tr>\n",
              "    <tr>\n",
              "      <th>2</th>\n",
              "      <td>0.513267</td>\n",
              "      <td>0.097078</td>\n",
              "    </tr>\n",
              "    <tr>\n",
              "      <th>3</th>\n",
              "      <td>-0.327662</td>\n",
              "      <td>-0.392108</td>\n",
              "    </tr>\n",
              "  </tbody>\n",
              "</table>\n",
              "</div>"
            ],
            "text/plain": [
              "   Random value 2  Random value 3\n",
              "0        0.357113        1.477894\n",
              "1       -0.501757        0.915402\n",
              "2        0.513267        0.097078\n",
              "3       -0.327662       -0.392108"
            ]
          },
          "execution_count": 79,
          "metadata": {},
          "output_type": "execute_result"
        }
      ],
      "source": [
        "# Index location method\n",
        "df.iloc[:, [1, 2]]"
      ]
    },
    {
      "cell_type": "code",
      "execution_count": null,
      "id": "6cc9c808",
      "metadata": {
        "id": "6cc9c808",
        "outputId": "f0b97ec2-3716-49eb-ed38-bbbc73d948ff"
      },
      "outputs": [
        {
          "name": "stdout",
          "output_type": "stream",
          "text": [
            "<class 'pandas.core.frame.DataFrame'>\n",
            "RangeIndex: 4 entries, 0 to 3\n",
            "Data columns (total 4 columns):\n",
            " #   Column          Non-Null Count  Dtype  \n",
            "---  ------          --------------  -----  \n",
            " 0   Random value 1  4 non-null      float64\n",
            " 1   Random value 2  4 non-null      float64\n",
            " 2   Random value 3  4 non-null      float64\n",
            " 3   Random value 4  4 non-null      float64\n",
            "dtypes: float64(4)\n",
            "memory usage: 256.0 bytes\n"
          ]
        }
      ],
      "source": [
        "df.info()"
      ]
    }
  ],
  "metadata": {
    "kernelspec": {
      "display_name": "Python 3 (ipykernel)",
      "language": "python",
      "name": "python3"
    },
    "language_info": {
      "codemirror_mode": {
        "name": "ipython",
        "version": 3
      },
      "file_extension": ".py",
      "mimetype": "text/x-python",
      "name": "python",
      "nbconvert_exporter": "python",
      "pygments_lexer": "ipython3",
      "version": "3.9.7"
    },
    "colab": {
      "provenance": [],
      "include_colab_link": true
    }
  },
  "nbformat": 4,
  "nbformat_minor": 5
}
